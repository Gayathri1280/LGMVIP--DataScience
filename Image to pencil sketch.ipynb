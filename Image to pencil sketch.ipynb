{
 "cells": [
  {
   "cell_type": "markdown",
   "id": "1cf82e17",
   "metadata": {},
   "source": [
    "# import library"
   ]
  },
  {
   "cell_type": "code",
   "execution_count": 1,
   "id": "2be18339",
   "metadata": {},
   "outputs": [],
   "source": [
    "import cv2\n"
   ]
  },
  {
   "cell_type": "markdown",
   "id": "9006617f",
   "metadata": {},
   "source": [
    "# read the image"
   ]
  },
  {
   "cell_type": "code",
   "execution_count": 12,
   "id": "b00f3ce1",
   "metadata": {},
   "outputs": [],
   "source": [
    "image = cv2.imread(\"dog.jpg\")"
   ]
  },
  {
   "cell_type": "markdown",
   "id": "260dc9e1",
   "metadata": {},
   "source": [
    "# display the image"
   ]
  },
  {
   "cell_type": "code",
   "execution_count": 13,
   "id": "54b1b7e1",
   "metadata": {},
   "outputs": [],
   "source": [
    "cv2.imshow(\"Dog\", image)\n",
    "cv2.waitKey(0)\n",
    "cv2.destroyAllWindows()"
   ]
  },
  {
   "cell_type": "markdown",
   "id": "fcb31904",
   "metadata": {},
   "source": [
    "# converting the original image to greyscale:"
   ]
  },
  {
   "cell_type": "code",
   "execution_count": 14,
   "id": "1757c292",
   "metadata": {},
   "outputs": [
    {
     "data": {
      "text/plain": [
       "-1"
      ]
     },
     "execution_count": 14,
     "metadata": {},
     "output_type": "execute_result"
    }
   ],
   "source": [
    "gray_image = cv2.cvtColor(image, cv2.COLOR_BGR2GRAY)\n",
    "cv2.imshow(\"New Dog\", gray_image)\n",
    "cv2.waitKey(0)"
   ]
  },
  {
   "cell_type": "markdown",
   "id": "a4807846",
   "metadata": {},
   "source": [
    "# the next step is to invert the new grayscale image:\n"
   ]
  },
  {
   "cell_type": "code",
   "execution_count": 15,
   "id": "fb8b1639",
   "metadata": {},
   "outputs": [
    {
     "data": {
      "text/plain": [
       "-1"
      ]
     },
     "execution_count": 15,
     "metadata": {},
     "output_type": "execute_result"
    }
   ],
   "source": [
    "inverted_image = 255 - gray_image\n",
    "cv2.imshow(\"Inverted\", inverted_image)\n",
    "cv2.waitKey()"
   ]
  },
  {
   "cell_type": "markdown",
   "id": "a5c94b9f",
   "metadata": {},
   "source": [
    "# to blur the image by using the Gaussian Function in OpenCV:"
   ]
  },
  {
   "cell_type": "code",
   "execution_count": 16,
   "id": "21b8e1d2",
   "metadata": {},
   "outputs": [],
   "source": [
    "blurred = cv2.GaussianBlur(inverted_image, (21, 21), 0)"
   ]
  },
  {
   "cell_type": "markdown",
   "id": "aa781e51",
   "metadata": {},
   "source": [
    "# to invert the blurred image, then we can easily convert the image into a pencil sketch:"
   ]
  },
  {
   "cell_type": "code",
   "execution_count": 17,
   "id": "d8f44e4d",
   "metadata": {},
   "outputs": [
    {
     "data": {
      "text/plain": [
       "-1"
      ]
     },
     "execution_count": 17,
     "metadata": {},
     "output_type": "execute_result"
    }
   ],
   "source": [
    "inverted_blurred = 255 - blurred\n",
    "pencil_sketch = cv2.divide(gray_image, inverted_blurred, scale=256.0)\n",
    "cv2.imshow(\"Sketch\", pencil_sketch)\n",
    "cv2.waitKey(0)"
   ]
  },
  {
   "cell_type": "markdown",
   "id": "3e085243",
   "metadata": {},
   "source": [
    "# look at both the original image and the pencil sketch"
   ]
  },
  {
   "cell_type": "code",
   "execution_count": 9,
   "id": "9b9374a2",
   "metadata": {},
   "outputs": [
    {
     "data": {
      "text/plain": [
       "-1"
      ]
     },
     "execution_count": 9,
     "metadata": {},
     "output_type": "execute_result"
    }
   ],
   "source": [
    "cv2.imshow(\"original image\", image)\n",
    "cv2.imshow(\"pencil sketch\", pencil_sketch)\n",
    "cv2.waitKey(0)"
   ]
  },
  {
   "cell_type": "code",
   "execution_count": null,
   "id": "4a8e2425",
   "metadata": {},
   "outputs": [],
   "source": []
  },
  {
   "cell_type": "code",
   "execution_count": null,
   "id": "1cda91d8",
   "metadata": {},
   "outputs": [],
   "source": []
  }
 ],
 "metadata": {
  "kernelspec": {
   "display_name": "Python 3 (ipykernel)",
   "language": "python",
   "name": "python3"
  },
  "language_info": {
   "codemirror_mode": {
    "name": "ipython",
    "version": 3
   },
   "file_extension": ".py",
   "mimetype": "text/x-python",
   "name": "python",
   "nbconvert_exporter": "python",
   "pygments_lexer": "ipython3",
   "version": "3.9.12"
  }
 },
 "nbformat": 4,
 "nbformat_minor": 5
}
